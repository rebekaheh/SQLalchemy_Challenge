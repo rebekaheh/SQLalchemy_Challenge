{
 "cells": [
  {
   "cell_type": "markdown",
   "metadata": {},
   "source": [
    "# Joins Are From Descartes, Rows Are From Schemas\n",
    "\n",
    "\n",
    "### Part 1\n",
    "\n",
    "* The outputs of following queries are 25 and 10, respectively. \n",
    "\n",
    "  ```sql\n",
    "  SELECT COUNT(*)\n",
    "  FROM first_table;\n",
    "  \n",
    "  SELECT COUNT(*)\n",
    "  FROM second_table;\n",
    "  ```\n",
    "  \n",
    "* What will be the number of rows in the output of the following query?\n",
    "\n",
    "  ```sql\n",
    "  SELECT *\n",
    "  FROM first_table, second_table;\n",
    "  ```  "
   ]
  },
  {
   "cell_type": "markdown",
   "metadata": {},
   "source": [
    "### Part 2\n",
    "* The query SELECT * FROM table_one; returns the following:\n",
    "\n",
    "Images/descartes01.png\n",
    "\n",
    "*And the query SELECT * FROM table_two; returns the following:\n",
    "\n",
    "Images/descartes01.png\n",
    "\n",
    "*What will the query SELECT * FROM table_one, table_two; look like?"
   ]
  },
  {
   "cell_type": "code",
   "execution_count": null,
   "metadata": {},
   "outputs": [],
   "source": [
    "\n"
   ]
  }
 ],
 "metadata": {
  "kernelspec": {
   "display_name": "Python 3",
   "language": "python",
   "name": "python3"
  },
  "language_info": {
   "codemirror_mode": {
    "name": "ipython",
    "version": 3
   },
   "file_extension": ".py",
   "mimetype": "text/x-python",
   "name": "python",
   "nbconvert_exporter": "python",
   "pygments_lexer": "ipython3",
   "version": "3.8.3"
  }
 },
 "nbformat": 4,
 "nbformat_minor": 4
}
